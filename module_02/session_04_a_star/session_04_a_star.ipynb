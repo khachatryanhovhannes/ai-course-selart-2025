{
 "cells": [
  {
   "cell_type": "markdown",
   "id": "bbb1841e",
   "metadata": {},
   "source": [
    "# Module 2 – Session 4: Practical Exercises"
   ]
  },
  {
   "cell_type": "markdown",
   "id": "3a283270",
   "metadata": {},
   "source": [
    "## Exercise 1 — Trace A* Search (Conceptual)\n"
   ]
  },
  {
   "cell_type": "markdown",
   "id": "0d899593",
   "metadata": {},
   "source": [
    "#### Given Graph\n",
    "\n",
    "```\n",
    "S (h=10)\n",
    "|-- (cost 4) -- A (h=6)\n",
    "| |-- (cost 8) -- C (h=3)\n",
    "| | |-- (cost 3) -- G (h=0)\n",
    "| |-- (cost 2) -- D (h=4)\n",
    "| |-- (cost 10) -- G (h=0)\n",
    "|-- (cost 5) -- B (h=7)\n",
    "|-- (cost 6) -- E (h=1)\n",
    "|-- (cost 2) -- G (h=0)\n",
    "```\n",
    "\n",
    "Start node → **S**  \n",
    "Goal node → **G**"
   ]
  },
  {
   "cell_type": "markdown",
   "id": "a2765993",
   "metadata": {},
   "source": [
    "**Step 1 — Start from S**  \n",
    "- g(S)=0, h(S)=10 ⇒ f(S)=10  \n",
    "Expand neighbors of S:\n",
    "\n",
    "| Neighbor | Edge cost | g(n) | h(n) | f(n)=g+h |\n",
    "|---------:|----------:|-----:|-----:|---------:|\n",
    "| A        | 4         | 4    | 6    | 10       |\n",
    "| B        | 5         | 5    | 7    | 12       |\n",
    "| E        | 6         | 6    | 1    | 7        |\n",
    "| G        | 2         | 2    | 0    | 2        |\n",
    "\n",
    "\n",
    "Open (by f): `[ G(2), E(7), A(10), B(12) ]`  \n",
    "Closed: `[ S ]`\n",
    "\n",
    "**Step 2 — Pop the smallest f**  \n",
    "- Choose **G (f=2)**. It is the goal → **stop**.\n",
    "\n",
    "### Result\n",
    "- Expanded nodes: **S**, **G**  \n",
    "- Final path: **S → G**  \n",
    "- Total cost: **2**\n"
   ]
  },
  {
   "cell_type": "markdown",
   "id": "18e6f6af",
   "metadata": {},
   "source": []
  },
  {
   "cell_type": "markdown",
   "id": "6154f6be",
   "metadata": {},
   "source": [
    "### Comparison with Greedy Best-First Search\n",
    "\n",
    "| Algorithm | Selection criterion | Found path | Cost | Comment |\n",
    "|------------|--------------------|-------------|-------|----------|\n",
    "| Greedy Best-First | Chooses smallest h(n) | S → G | 2 | Greedy ignores g(n); not always optimal |\n",
    "| A* Search | Chooses smallest f(n)=g+h | S → G | 2 | Combines actual and heuristic costs → optimal |\n",
    "\n",
    "\n",
    "##### Discussion\n",
    "\n",
    "In this graph, both Greedy and A* found the same path because there is a **direct edge S→G** with the lowest possible cost (2).  \n",
    "However, if that direct link didn’t exist, Greedy would probably choose a node with the smallest h(n), while A* would keep exploring based on both g and h, finding the **true shortest path**.\n",
    "\n",
    "**Key Takeaway:**  \n",
    "> A* search is *complete* and *optimal* when h(n) is admissible (i.e., never overestimates the real cost).\n",
    "\n",
    "---\n",
    "\n",
    "##### Summary\n",
    "- Expanded nodes → S, G  \n",
    "- Final path → S → G  \n",
    "- Total cost → 2  \n",
    "- A* found optimal path (same as Greedy here)"
   ]
  },
  {
   "cell_type": "markdown",
   "id": "0ceb7ae8",
   "metadata": {},
   "source": [
    "### Exercise 2 — Implement A* Search (Coding)\n"
   ]
  },
  {
   "cell_type": "markdown",
   "id": "825f0110",
   "metadata": {},
   "source": [
    "#####  Step 1 — Define the graph and heuristic values\n",
    "\n",
    "Graph uses **real road costs** (g).  \n",
    "Heuristics are straight-line estimates to **Dilizhan** (h)."
   ]
  },
  {
   "cell_type": "code",
   "execution_count": 17,
   "id": "d9e5a4a2",
   "metadata": {},
   "outputs": [],
   "source": [
    "# Actual road costs between Armenian cities\n",
    "graph = {\n",
    "    'Yerevan': {'Gyumri': 20, 'Sevan': 60},\n",
    "    'Gyumri': {'Yerevan': 20, 'Vanadzor': 40},\n",
    "    'Sevan': {'Yerevan': 60, 'Dilizhan': 40},\n",
    "    'Vanadzor': {'Gyumri': 40, 'Dilizhan': 50},\n",
    "    'Dilizhan': {'Sevan': 40, 'Vanadzor': 50}\n",
    "}\n",
    "\n",
    "# Heuristic values (straight-line distance to Dilizhan)\n",
    "heuristics = {\n",
    "    'Yerevan': 90,\n",
    "    'Gyumri': 85,\n",
    "    'Sevan': 25,\n",
    "    'Vanadzor': 35,\n",
    "    'Dilizhan': 0\n",
    "}\n",
    "\n",
    "start = 'Yerevan'\n",
    "goal = 'Dilizhan'\n"
   ]
  },
  {
   "cell_type": "markdown",
   "id": "57d6243c",
   "metadata": {},
   "source": [
    "##### Step 2 — Implement the A* search function\n",
    "\n",
    "We maintain an Open List (Priority Queue) by **smallest f(n)=g+h**.  \n",
    "We also track `visited` to avoid re-expanding nodes."
   ]
  },
  {
   "cell_type": "code",
   "execution_count": 18,
   "id": "7d02fdeb",
   "metadata": {},
   "outputs": [],
   "source": [
    "from queue import PriorityQueue\n",
    "\n",
    "def a_star_search(graph, start, goal, heuristics):\n",
    "    open_list = PriorityQueue()\n",
    "    open_list.put((heuristics[start], [start]))   # initial f = 0 + h(start)\n",
    "    visited = set()\n",
    "\n",
    "    while not open_list.empty():\n",
    "        f_value, path = open_list.get()\n",
    "        node = path[-1]\n",
    "\n",
    "        if node == goal:\n",
    "            return path  # we will compute g separately\n",
    "\n",
    "        if node in visited:\n",
    "            continue\n",
    "        visited.add(node)\n",
    "\n",
    "        # current g cost of the path so far\n",
    "        g_cost = sum(graph[path[i]][path[i+1]] for i in range(len(path)-1))\n",
    "\n",
    "        for nb, cost in graph[node].items():\n",
    "            if nb not in visited:\n",
    "                g_new = g_cost + cost\n",
    "                f_new = g_new + heuristics[nb]\n",
    "                open_list.put((f_new, path + [nb]))\n",
    "\n",
    "    return None\n",
    "\n",
    "def path_cost(graph, path):\n",
    "    if not path or len(path) < 2:\n",
    "        return 0\n",
    "    return sum(graph[path[i]][path[i+1]] for i in range(len(path)-1))\n"
   ]
  },
  {
   "cell_type": "markdown",
   "id": "9aab481d",
   "metadata": {},
   "source": [
    "##### Step 3 — Run A* and print the result\n"
   ]
  },
  {
   "cell_type": "code",
   "execution_count": 19,
   "id": "2cb5b58d",
   "metadata": {},
   "outputs": [
    {
     "name": "stdout",
     "output_type": "stream",
     "text": [
      "A* path: Yerevan → Sevan → Dilizhan\n",
      "A* total cost (g): 100\n"
     ]
    }
   ],
   "source": [
    "path_a = a_star_search(graph, start, goal, heuristics)\n",
    "cost_a = path_cost(graph, path_a)\n",
    "\n",
    "print(\"A* path:\", \" → \".join(path_a))\n",
    "print(\"A* total cost (g):\", cost_a)"
   ]
  },
  {
   "cell_type": "markdown",
   "id": "c3650ddb",
   "metadata": {},
   "source": [
    "##### 🔁 Step 4 — Compare with BFS (unit costs) and Greedy Best-First\n",
    "\n",
    "- **BFS** assumes all edges have the same cost (unit weights) → shortest by number of edges  \n",
    "- **Greedy** always picks the smallest **h(n)** next  \n",
    "We’ll run both on the same graph to answer requirement (3)."
   ]
  },
  {
   "cell_type": "code",
   "execution_count": 20,
   "id": "2aae4d29",
   "metadata": {},
   "outputs": [
    {
     "name": "stdout",
     "output_type": "stream",
     "text": [
      "BFS (unit costs) path: Yerevan → Sevan → Dilizhan | expanded: 5\n",
      "Greedy path: Yerevan → Sevan → Dilizhan | expanded: 3\n"
     ]
    }
   ],
   "source": [
    "from collections import deque\n",
    "from queue import PriorityQueue\n",
    "\n",
    "# Build unweighted adjacency for BFS (ignore edge weights)\n",
    "adj = {u: list(graph[u].keys()) for u in graph}\n",
    "\n",
    "def bfs_unit_cost(adj, start, goal):\n",
    "    q = deque([[start]])\n",
    "    visited = set([start])\n",
    "    expanded = 0\n",
    "    while q:\n",
    "        path = q.popleft()\n",
    "        node = path[-1]\n",
    "        expanded += 1\n",
    "        if node == goal:\n",
    "            return path, expanded\n",
    "        for nb in adj[node]:\n",
    "            if nb not in visited:\n",
    "                visited.add(nb)\n",
    "                q.append(path + [nb])\n",
    "    return None, expanded\n",
    "\n",
    "def greedy_best_first(graph, start, goal, heuristics):\n",
    "    pq = PriorityQueue()\n",
    "    pq.put((heuristics[start], [start]))\n",
    "    visited = set()\n",
    "    expanded = 0\n",
    "    while not pq.empty():\n",
    "        h, path = pq.get()\n",
    "        node = path[-1]\n",
    "        if node in visited:\n",
    "            continue\n",
    "        visited.add(node)\n",
    "        expanded += 1\n",
    "        if node == goal:\n",
    "            return path, expanded\n",
    "        for nb in graph[node].keys():\n",
    "            if nb not in visited:\n",
    "                pq.put((heuristics[nb], path + [nb]))\n",
    "    return None, expanded\n",
    "\n",
    "bfs_path, bfs_exp = bfs_unit_cost(adj, start, goal)\n",
    "greedy_path, greedy_exp = greedy_best_first(graph, start, goal, heuristics)\n",
    "\n",
    "print(\"BFS (unit costs) path:\", \" → \".join(bfs_path), \"| expanded:\", bfs_exp)\n",
    "print(\"Greedy path:\", \" → \".join(greedy_path), \"| expanded:\", greedy_exp)\n"
   ]
  },
  {
   "cell_type": "markdown",
   "id": "9d7e32d1",
   "metadata": {},
   "source": [
    "##### Step 5 — Dijkstra & efficiency measurement (requirement 5)\n",
    "\n",
    "We will compare **A\\*** and **Dijkstra** by:\n",
    "- **expanded nodes** count\n",
    "- optional **runtime** (ms)"
   ]
  },
  {
   "cell_type": "code",
   "execution_count": 21,
   "id": "60ab68c3",
   "metadata": {},
   "outputs": [
    {
     "name": "stdout",
     "output_type": "stream",
     "text": [
      "A*       : Yerevan → Sevan → Dilizhan | g = 100 | expanded = 3 | ~0.026 ms\n",
      "Dijkstra : Yerevan → Sevan → Dilizhan | g = 100 | expanded = 5 | ~0.013 ms\n"
     ]
    }
   ],
   "source": [
    "import time\n",
    "from queue import PriorityQueue\n",
    "\n",
    "def a_star_with_metrics(graph, start, goal, heuristics):\n",
    "    open_list = PriorityQueue()\n",
    "    open_list.put((heuristics[start], [start]))\n",
    "    visited = set()\n",
    "    expanded = 0\n",
    "    t0 = time.perf_counter()\n",
    "    while not open_list.empty():\n",
    "        f_value, path = open_list.get()\n",
    "        node = path[-1]\n",
    "        if node in visited:\n",
    "            continue\n",
    "        visited.add(node)\n",
    "        expanded += 1\n",
    "        if node == goal:\n",
    "            g = path_cost(graph, path)\n",
    "            t1 = time.perf_counter()\n",
    "            return path, g, expanded, (t1 - t0)*1000\n",
    "        g_so_far = path_cost(graph, path)\n",
    "        for nb, cost in graph[node].items():\n",
    "            if nb not in visited:\n",
    "                g_new = g_so_far + cost\n",
    "                f_new = g_new + heuristics[nb]\n",
    "                open_list.put((f_new, path + [nb]))\n",
    "    t1 = time.perf_counter()\n",
    "    return None, float('inf'), expanded, (t1 - t0)*1000\n",
    "\n",
    "def dijkstra_with_metrics(graph, start, goal):\n",
    "    pq = PriorityQueue()\n",
    "    pq.put((0, [start]))  # (g, path)\n",
    "    visited = set()\n",
    "    expanded = 0\n",
    "    t0 = time.perf_counter()\n",
    "    while not pq.empty():\n",
    "        g, path = pq.get()\n",
    "        node = path[-1]\n",
    "        if node in visited:\n",
    "            continue\n",
    "        visited.add(node)\n",
    "        expanded += 1\n",
    "        if node == goal:\n",
    "            t1 = time.perf_counter()\n",
    "            return path, g, expanded, (t1 - t0)*1000\n",
    "        for nb, cost in graph[node].items():\n",
    "            if nb not in visited:\n",
    "                pq.put((g + cost, path + [nb]))\n",
    "    t1 = time.perf_counter()\n",
    "    return None, float('inf'), expanded, (t1 - t0)*1000\n",
    "\n",
    "ap, ag, ae, ams = a_star_with_metrics(graph, start, goal, heuristics)\n",
    "dp, dg, de, dms = dijkstra_with_metrics(graph, start, goal)\n",
    "\n",
    "print(\"A*       :\", \" → \".join(ap), \"| g =\", ag, \"| expanded =\", ae, \"| ~%.3f ms\" % ams)\n",
    "print(\"Dijkstra :\", \" → \".join(dp), \"| g =\", dg, \"| expanded =\", de, \"| ~%.3f ms\" % dms)\n"
   ]
  },
  {
   "cell_type": "markdown",
   "id": "4656982d",
   "metadata": {},
   "source": [
    "##### Step 6 — Modify costs/heuristics so A* picks another optimal path (requirement 4)\n",
    "\n",
    "Two minimal options:\n",
    "1) **Heuristic tweak only:** lower `h(Gyumri)` and raise `h(Sevan)` → biases A* towards `Yerevan → Gyumri → Vanadzor → Dilizhan`.\n",
    "2) **Small cost tweak:** increase `Sevan → Dilizhan` from `40` to `55` to make the Gyumri/Vanadzor route competitive.\n"
   ]
  },
  {
   "cell_type": "code",
   "execution_count": 22,
   "id": "d35e7d18",
   "metadata": {},
   "outputs": [
    {
     "name": "stdout",
     "output_type": "stream",
     "text": [
      "Heuristic tweak → A* path: Yerevan → Gyumri → Vanadzor → Dilizhan | g = 110\n",
      "Cost tweak → A* path: Yerevan → Gyumri → Vanadzor → Dilizhan | g = 110\n"
     ]
    }
   ],
   "source": [
    "# (1) Heuristic-only tweak\n",
    "h_tweak = dict(heuristics)\n",
    "h_tweak['Gyumri'] = 20   # much closer\n",
    "h_tweak['Sevan']  = 60   # farther\n",
    "\n",
    "p1 = a_star_search(graph, start, goal, h_tweak)\n",
    "print(\"Heuristic tweak → A* path:\", \" → \".join(p1), \"| g =\", path_cost(graph, p1))\n",
    "\n",
    "# (2) Small cost tweak\n",
    "g_tweak = {u: dict(v) for u, v in graph.items()}\n",
    "g_tweak['Sevan']['Dilizhan'] = 55  # 40 → 55\n",
    "\n",
    "p2 = a_star_search(g_tweak, start, goal, heuristics)\n",
    "print(\"Cost tweak → A* path:\", \" → \".join(p2), \"| g =\", path_cost(g_tweak, p2))\n"
   ]
  },
  {
   "cell_type": "markdown",
   "id": "17172744",
   "metadata": {},
   "source": [
    "## Summary\n",
    "\n",
    "- **Exercise 1 (Trace):** Expanded S, G → Path `S → G` → Cost `2`\n",
    "- **Exercise 2 (Code):** A* on Armenian cities → `Yerevan → Sevan → Dilizhan` → Cost `100`\n",
    "- **BFS (unit costs):** same path by 2 edges; **Greedy** also picks the same due to smallest h\n",
    "- **Dijkstra vs A*:** both optimal g, but A* tends to expand fewer nodes (uses h)\n",
    "- **Tweaks:** small heuristic/cost changes can steer A* to a different (still optimal or suboptimal) route depending on admissibility of h\n",
    "\n",
    "**Key idea:** A* = Dijkstra + admissible heuristic → optimal & efficient.\n"
   ]
  }
 ],
 "metadata": {
  "kernelspec": {
   "display_name": "Python 3",
   "language": "python",
   "name": "python3"
  },
  "language_info": {
   "codemirror_mode": {
    "name": "ipython",
    "version": 3
   },
   "file_extension": ".py",
   "mimetype": "text/x-python",
   "name": "python",
   "nbconvert_exporter": "python",
   "pygments_lexer": "ipython3",
   "version": "3.13.7"
  }
 },
 "nbformat": 4,
 "nbformat_minor": 5
}
