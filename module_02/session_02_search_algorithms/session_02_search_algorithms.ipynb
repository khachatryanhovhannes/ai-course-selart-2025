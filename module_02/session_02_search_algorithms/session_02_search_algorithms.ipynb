{
 "cells": [
  {
   "cell_type": "markdown",
   "id": "1f4e80c7",
   "metadata": {},
   "source": [
    "# Module 02, Session 02: Search Algorithms"
   ]
  },
  {
   "cell_type": "markdown",
   "id": "6853ee80",
   "metadata": {},
   "source": [
    "### Exercise 1։ Trace the Search\n",
    "\n",
    "#### 1) Breadth-First Search (BFS)\n",
    "BFS uses a **queue (FIFO)** and explores level by level before going deeper.\n",
    "\n",
    "**BFS Expansion Order:**  \n",
    "S, A, B, C, D, E, F, G\n",
    "\n",
    "#### 2) Depth-First Search (DFS)\n",
    "DFS uses a **stack (LIFO)** and explores as deep as possible before backtracking.\n",
    "\n",
    "**DFS Expansion Order:**  \n",
    "S, A, C, D, G"
   ]
  },
  {
   "cell_type": "markdown",
   "id": "c2792351",
   "metadata": {},
   "source": [
    "---"
   ]
  },
  {
   "cell_type": "markdown",
   "id": "b2bf4670",
   "metadata": {},
   "source": [
    "### Exercise 2։ Implement Breadth-First Search (Coding)\n"
   ]
  },
  {
   "cell_type": "code",
   "execution_count": 16,
   "id": "9b5e2388",
   "metadata": {},
   "outputs": [
    {
     "data": {
      "text/plain": [
       "{'Yerevan': ['Gyumri', 'Sevan'],\n",
       " 'Gyumri': ['Yerevan', 'Vanadzor'],\n",
       " 'Sevan': ['Yerevan', 'Dilizhan'],\n",
       " 'Vanadzor': ['Gyumri', 'Dilizhan'],\n",
       " 'Dilizhan': ['Sevan', 'Vanadzor']}"
      ]
     },
     "execution_count": 16,
     "metadata": {},
     "output_type": "execute_result"
    }
   ],
   "source": [
    "# A simplified map of Armenia as a graph\n",
    "\n",
    "graph = {\n",
    "    'Yerevan': ['Gyumri', 'Sevan'],  # Start\n",
    "    'Gyumri': ['Yerevan', 'Vanadzor'],\n",
    "    'Sevan': ['Yerevan', 'Dilizhan'],\n",
    "    'Vanadzor': ['Gyumri', 'Dilizhan'],\n",
    "    'Dilizhan': ['Sevan', 'Vanadzor']  # Goal\n",
    "}\n",
    "\n",
    "graph\n"
   ]
  },
  {
   "cell_type": "markdown",
   "id": "871399f9",
   "metadata": {},
   "source": [
    "This BFS function searches for a path from the start city to the goal city.\n",
    "It uses a queue to explore cities level-by-level and returns the full path once the goal is reached."
   ]
  },
  {
   "cell_type": "code",
   "execution_count": 17,
   "id": "4043f7cb",
   "metadata": {},
   "outputs": [],
   "source": [
    "from collections import deque\n",
    "\n",
    "def bfs(graph, start, goal):\n",
    "    queue = deque([[start]])      # queue will store paths\n",
    "    visited = set([start])        # start is visited\n",
    "\n",
    "    while queue:\n",
    "        path = queue.popleft()    # take the first path\n",
    "        node = path[-1]           # check last node in path\n",
    "\n",
    "        # If goal found → return path\n",
    "        if node == goal:\n",
    "            return path\n",
    "\n",
    "        # Otherwise, expand neighbors\n",
    "        for neighbor in graph[node]:\n",
    "            if neighbor not in visited:\n",
    "                visited.add(neighbor)\n",
    "                new_path = path + [neighbor]\n",
    "                queue.append(new_path)\n",
    "\n",
    "    return None   # if no path found\n"
   ]
  },
  {
   "cell_type": "markdown",
   "id": "1e70b553",
   "metadata": {},
   "source": [
    "We now test the BFS function to see the route from Yerevan to Dilizhan.\n"
   ]
  },
  {
   "cell_type": "code",
   "execution_count": 18,
   "id": "d89ae1d8",
   "metadata": {},
   "outputs": [
    {
     "name": "stdout",
     "output_type": "stream",
     "text": [
      "BFS Path found: ['Yerevan', 'Sevan', 'Dilizhan']\n"
     ]
    }
   ],
   "source": [
    "path = bfs(graph, 'Yerevan', 'Dilizhan')\n",
    "print(\"BFS Path found:\", path)\n"
   ]
  },
  {
   "cell_type": "markdown",
   "id": "933cef4a",
   "metadata": {},
   "source": [
    "---"
   ]
  },
  {
   "cell_type": "markdown",
   "id": "5e7034aa",
   "metadata": {},
   "source": [
    "### Exercise 3։ Implement Depth-First Search"
   ]
  },
  {
   "cell_type": "markdown",
   "id": "c8254af5",
   "metadata": {},
   "source": [
    "In DFS, we explore as far as possible along one path before backtracking."
   ]
  },
  {
   "cell_type": "code",
   "execution_count": 19,
   "id": "7b32bfae",
   "metadata": {},
   "outputs": [],
   "source": [
    "def dfs(graph, start, goal):\n",
    "    stack = [[start]]      # stack will store paths\n",
    "    visited = set([start]) # keep track of visited cities\n",
    "\n",
    "    while stack:\n",
    "        path = stack.pop()     # take the last path (LIFO)\n",
    "        node = path[-1]        # current city\n",
    "\n",
    "        if node == goal:\n",
    "            return path        # return path when goal is found\n",
    "\n",
    "        for neighbor in graph[node]:\n",
    "            if neighbor not in visited:\n",
    "                visited.add(neighbor)\n",
    "                new_path = path + [neighbor]\n",
    "                stack.append(new_path)\n",
    "\n",
    "    return None    # if no route found\n"
   ]
  },
  {
   "cell_type": "markdown",
   "id": "165f0918",
   "metadata": {},
   "source": [
    "We test DFS to compare its result with BFS.\n"
   ]
  },
  {
   "cell_type": "code",
   "execution_count": 20,
   "id": "83e76d6d",
   "metadata": {},
   "outputs": [
    {
     "name": "stdout",
     "output_type": "stream",
     "text": [
      "DFS Path found: ['Yerevan', 'Sevan', 'Dilizhan']\n"
     ]
    }
   ],
   "source": [
    "path = dfs(graph, 'Yerevan', 'Dilizhan')\n",
    "print(\"DFS Path found:\", path)\n"
   ]
  },
  {
   "cell_type": "markdown",
   "id": "64f266a1",
   "metadata": {},
   "source": [
    "### Exercise 4։ Implement Dijkstra’s Search (Challenge)"
   ]
  },
  {
   "cell_type": "code",
   "execution_count": 21,
   "id": "b0c0582c",
   "metadata": {},
   "outputs": [],
   "source": [
    "# Weighted edges (approximate distances in kilometers)\n",
    "weights = {\n",
    "    ('Yerevan', 'Gyumri'): 120,\n",
    "    ('Yerevan', 'Sevan'): 70,\n",
    "    ('Gyumri', 'Vanadzor'): 95,\n",
    "    ('Sevan', 'Dilizhan'): 35,\n",
    "    ('Vanadzor', 'Dilizhan'): 40\n",
    "}\n",
    "\n",
    "# Convert to a weighted adjacency list (undirected graph)\n",
    "weighted_graph = {}\n",
    "\n",
    "for (u, v), w in weights.items():\n",
    "    weighted_graph.setdefault(u, {})[v] = w\n",
    "    weighted_graph.setdefault(v, {})[u] = w\n"
   ]
  },
  {
   "cell_type": "markdown",
   "id": "fa078fed",
   "metadata": {},
   "source": [
    "The Dijkstra function calculates:\n",
    "- `dist`: the shortest distance from the start to each city\n",
    "- `prev`: the predecessor of each city in the shortest path\n"
   ]
  },
  {
   "cell_type": "code",
   "execution_count": 22,
   "id": "9a2927c6",
   "metadata": {},
   "outputs": [],
   "source": [
    "import math\n",
    "import heapq\n",
    "\n",
    "def dijkstra(graph, start):\n",
    "    dist = {city: math.inf for city in graph}\n",
    "    dist[start] = 0\n",
    "    prev = {city: None for city in graph}\n",
    "\n",
    "    priority_queue = [(0, start)]  # (distance, city)\n",
    "\n",
    "    while priority_queue:\n",
    "        current_dist, city = heapq.heappop(priority_queue)\n",
    "\n",
    "        for neighbor, cost in graph[city].items():\n",
    "            new_dist = current_dist + cost\n",
    "            if new_dist < dist[neighbor]:\n",
    "                dist[neighbor] = new_dist\n",
    "                prev[neighbor] = city\n",
    "                heapq.heappush(priority_queue, (new_dist, neighbor))\n",
    "\n",
    "    return dist, prev\n"
   ]
  },
  {
   "cell_type": "markdown",
   "id": "d8ca789e",
   "metadata": {},
   "source": [
    "We now compute distances from Yerevan and reconstruct the best path to Dilizhan.\n"
   ]
  },
  {
   "cell_type": "code",
   "execution_count": 23,
   "id": "c97a17c7",
   "metadata": {},
   "outputs": [
    {
     "name": "stdout",
     "output_type": "stream",
     "text": [
      "Shortest distances from Yerevan: {'Yerevan': 0, 'Gyumri': 120, 'Sevan': 70, 'Vanadzor': 145, 'Dilizhan': 105}\n",
      "Shortest path Yerevan → Dilizhan: ['Yerevan', 'Sevan', 'Dilizhan']\n"
     ]
    }
   ],
   "source": [
    "dist, prev = dijkstra(weighted_graph, 'Yerevan')\n",
    "print(\"Shortest distances from Yerevan:\", dist)\n",
    "\n",
    "# Reconstruct shortest path to Dilizhan\n",
    "path = []\n",
    "current = 'Dilizhan'\n",
    "while current is not None:\n",
    "    path.append(current)\n",
    "    current = prev[current]\n",
    "path.reverse()\n",
    "\n",
    "print(\"Shortest path Yerevan → Dilizhan:\", path)\n"
   ]
  }
 ],
 "metadata": {
  "kernelspec": {
   "display_name": "Python 3",
   "language": "python",
   "name": "python3"
  },
  "language_info": {
   "codemirror_mode": {
    "name": "ipython",
    "version": 3
   },
   "file_extension": ".py",
   "mimetype": "text/x-python",
   "name": "python",
   "nbconvert_exporter": "python",
   "pygments_lexer": "ipython3",
   "version": "3.13.7"
  }
 },
 "nbformat": 4,
 "nbformat_minor": 5
}
