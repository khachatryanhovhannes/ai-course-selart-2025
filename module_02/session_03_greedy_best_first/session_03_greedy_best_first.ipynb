{
 "cells": [
  {
   "cell_type": "markdown",
   "id": "be28e9e2",
   "metadata": {},
   "source": [
    "# Module 2 – Session 3: Greedy Best-First Search"
   ]
  },
  {
   "cell_type": "markdown",
   "id": "1e928506",
   "metadata": {},
   "source": [
    "#### Exercise 1։ Trace Greedy Best-First Search (Conceptual)"
   ]
  },
  {
   "cell_type": "markdown",
   "id": "761984da",
   "metadata": {},
   "source": [
    "- Start at **S (h=10)**\n",
    "  - Neighbors added: A(6), B(7), E(1), **G(0)**\n",
    "- GBFS picks the node with the smallest **h(n)** → **G(0)**\n",
    "- **G** is the goal → reached \n",
    "\n",
    "##### Expanded nodes (in order)\n",
    "**S → G**\n",
    "\n",
    "##### Final path\n",
    "**S → G**\n",
    "\n",
    "##### Total cost\n",
    "**2**\n",
    "\n",
    "##### Optimal?\n",
    "**Yes** — this is the shortest path available in the graph."
   ]
  },
  {
   "cell_type": "markdown",
   "id": "33178ba5",
   "metadata": {},
   "source": [
    "#### Exercise 2․ Designing Heuristics (Water Jug 5L–3L → get 2L in 3L)\n",
    "\n",
    "**State representation:** `s = (x, y)`  \n",
    "- `x` — water in 5L jug (0…5)  \n",
    "- `y` — water in 3L jug (0…3)  \n",
    "**Goal:** `y = 2`\n",
    "\n",
    "##### Heuristic 1 — Volume gap in the 3L jug\n",
    "**Definition:**  \n",
    "\\( h_1(s) = |\\,y - 2\\,| \\)\n",
    "\n",
    "**Why it’s good (cheap & informative):**  \n",
    "- Measures how many liters the 3L jug is off from the target.\n",
    "- Fast: O(1) to compute.\n",
    "- Monotone intuition: the closer `y` is to 2, the smaller the value.\n",
    "\n",
    "**Admissibility (intuition):**  \n",
    "It never “overestimates” closeness in terms of liters difference to the goal in the 3L jug, so as a guidance signal for GBFS it is safe and consistent enough for ranking states.\n",
    "\n",
    "##### Heuristic 2 — Volume gap + “penalty” for an unprepared 5L jug\n",
    "**Definition:**  \n",
    "\\( h_2(s) = |\\,y - 2\\,| + \\mathbf{1}[\\,x \\notin \\{0,5\\}\\,] \\)\n",
    "\n",
    "Where \\(\\mathbf{1}[\\cdot]\\) is 1 if the condition is true, otherwise 0.\n",
    "\n",
    "**Idea:**  \n",
    "Often useful sequences begin with the 5L jug either **empty** or **full** (so pours are “maximally effective”).  \n",
    "We keep the same volume gap as \\(h_1\\), but add a small penalty when the 5L jug is in an “intermediate” state (neither 0 nor 5), nudging the search to first **prepare** the 5L jug.\n",
    "\n",
    "**Pros:**  \n",
    "- Still O(1) to compute.  \n",
    "- Gives a bit more structure to the search than \\(h_1\\), reducing detours through “messy” mid-states of the 5L jug.\n",
    "\n",
    "**Notes:**  \n",
    "- Both \\(h_1\\) and \\(h_2\\) are simple and cheap.  \n",
    "- For Greedy Best-First Search, we only need a reasonable *ordering* by “closeness”, not exact step counts.\n"
   ]
  },
  {
   "cell_type": "markdown",
   "id": "b1e085bc",
   "metadata": {},
   "source": [
    "#### Exercise 3․ Implement Greedy Best-First Search (Coding)\n",
    "\n",
    "Goal → Write and test a simple implementation of Greedy Best-First Search (GBFS).  \n",
    "We’ll use a small sample graph and heuristic values."
   ]
  },
  {
   "cell_type": "code",
   "execution_count": 1,
   "id": "0d657d40",
   "metadata": {},
   "outputs": [],
   "source": [
    "# Example graph (simple road map)\n",
    "graph = {\n",
    "    'Yerevan': ['Gyumri', 'Vanadzor', 'Sevan'],\n",
    "    'Gyumri': ['Vanadzor', 'Yerevan'],\n",
    "    'Vanadzor': ['Dilizhan', 'Yerevan'],\n",
    "    'Sevan': ['Dilizhan', 'Yerevan'],\n",
    "    'Dilizhan': []\n",
    "}\n",
    "\n",
    "# Heuristic values (estimated straight-line distance to Dilizhan)\n",
    "heuristics = {\n",
    "    'Yerevan': 90,\n",
    "    'Gyumri': 85,\n",
    "    'Vanadzor': 35,\n",
    "    'Sevan': 25,\n",
    "    'Dilizhan': 0\n",
    "}\n"
   ]
  },
  {
   "cell_type": "code",
   "execution_count": 11,
   "id": "6a84880c",
   "metadata": {},
   "outputs": [],
   "source": [
    "from heapq import heappush, heappop\n",
    "\n",
    "def greedy_bfs(graph, start, goal, heuristics):\n",
    "    \"\"\"Greedy Best-First Search using heuristic h(n) as priority.\"\"\"\n",
    "    visited = set()\n",
    "    pq = []\n",
    "    heappush(pq, (heuristics[start], [start]))\n",
    "\n",
    "    while pq:\n",
    "        priority, path = heappop(pq)\n",
    "        node = path[-1]\n",
    "        print(f\"Visiting: {node} (h={heuristics[node]})\")\n",
    "\n",
    "        if node == goal:\n",
    "            print(\"Goal reached\")\n",
    "            return path\n",
    "\n",
    "        if node not in visited:\n",
    "            visited.add(node)\n",
    "            for neighbor in graph[node]:\n",
    "                new_path = path + [neighbor]\n",
    "                heappush(pq, (heuristics[neighbor], new_path))\n",
    "    return None\n"
   ]
  },
  {
   "cell_type": "code",
   "execution_count": 12,
   "id": "01c82f4c",
   "metadata": {},
   "outputs": [
    {
     "name": "stdout",
     "output_type": "stream",
     "text": [
      "Visiting: Yerevan (h=90)\n",
      "Visiting: Sevan (h=25)\n",
      "Visiting: Dilizhan (h=0)\n",
      "Goal reached\n",
      "\n",
      "Final path found: ['Yerevan', 'Sevan', 'Dilizhan']\n"
     ]
    }
   ],
   "source": [
    "path = greedy_bfs(graph, 'Yerevan', 'Dilizhan', heuristics)\n",
    "print(\"\\nFinal path found:\", path)\n"
   ]
  },
  {
   "cell_type": "code",
   "execution_count": 13,
   "id": "3fda7d55",
   "metadata": {},
   "outputs": [],
   "source": [
    "# BFS and DFS for comparison\n",
    "from collections import deque\n",
    "\n",
    "def bfs(graph, start, goal):\n",
    "    queue = deque([[start]])\n",
    "    visited = set()\n",
    "    while queue:\n",
    "        path = queue.popleft()\n",
    "        node = path[-1]\n",
    "        if node == goal:\n",
    "            return path\n",
    "        if node not in visited:\n",
    "            visited.add(node)\n",
    "            for neighbor in graph[node]:\n",
    "                queue.append(path + [neighbor])\n",
    "    return None\n",
    "\n",
    "\n",
    "def dfs(graph, start, goal):\n",
    "    stack = [[start]]\n",
    "    visited = set()\n",
    "    while stack:\n",
    "        path = stack.pop()\n",
    "        node = path[-1]\n",
    "        if node == goal:\n",
    "            return path\n",
    "        if node not in visited:\n",
    "            visited.add(node)\n",
    "            for neighbor in graph[node]:\n",
    "                stack.append(path + [neighbor])\n",
    "    return None\n"
   ]
  },
  {
   "cell_type": "code",
   "execution_count": 14,
   "id": "fbb56efc",
   "metadata": {},
   "outputs": [
    {
     "name": "stdout",
     "output_type": "stream",
     "text": [
      "Visiting: Yerevan (h=90)\n",
      "Visiting: Sevan (h=25)\n",
      "Visiting: Dilizhan (h=0)\n",
      "Goal reached\n",
      "\n",
      "Greedy Best-First Search: ['Yerevan', 'Sevan', 'Dilizhan']\n",
      "Breadth-First Search: ['Yerevan', 'Vanadzor', 'Dilizhan']\n",
      "Depth-First Search: ['Yerevan', 'Sevan', 'Dilizhan']\n"
     ]
    }
   ],
   "source": [
    "# ▶ Compare results\n",
    "gbfs_path = greedy_bfs(graph, 'Yerevan', 'Dilizhan', heuristics)\n",
    "bfs_path  = bfs(graph, 'Yerevan', 'Dilizhan')\n",
    "dfs_path  = dfs(graph, 'Yerevan', 'Dilizhan')\n",
    "\n",
    "print(\"\\nGreedy Best-First Search:\", gbfs_path)\n",
    "print(\"Breadth-First Search:\", bfs_path)\n",
    "print(\"Depth-First Search:\", dfs_path)\n"
   ]
  },
  {
   "cell_type": "code",
   "execution_count": 15,
   "id": "eb47bd84",
   "metadata": {},
   "outputs": [
    {
     "name": "stdout",
     "output_type": "stream",
     "text": [
      "Visiting: Yerevan (h=10)\n",
      "Visiting: Gyumri (h=1)\n",
      "Visiting: Sevan (h=8)\n",
      "Visiting: Dilizhan (h=0)\n",
      "Goal reached\n",
      "\n",
      "Path with inefficient heuristic: ['Yerevan', 'Sevan', 'Dilizhan']\n"
     ]
    }
   ],
   "source": [
    "# Inefficient / misleading heuristic\n",
    "bad_heuristics = {\n",
    "    'Yerevan': 10,\n",
    "    'Gyumri': 1,       # misleads algorithm to go this way first\n",
    "    'Vanadzor': 9,\n",
    "    'Sevan': 8,\n",
    "    'Dilizhan': 0\n",
    "}\n",
    "\n",
    "path_bad = greedy_bfs(graph, 'Yerevan', 'Dilizhan', bad_heuristics)\n",
    "print(\"\\nPath with inefficient heuristic:\", path_bad)\n"
   ]
  },
  {
   "cell_type": "markdown",
   "id": "87aeecde",
   "metadata": {},
   "source": [
    "##### Observation\n",
    "\n",
    "With the misleading heuristic, GBFS first chooses **Gyumri (h = 1)** although it is actually farther.  \n",
    "The search becomes longer before reaching **Dilizhan**, proving that Greedy BFS does **not guarantee the shortest path** — it only relies on the heuristic estimate.\n"
   ]
  }
 ],
 "metadata": {
  "kernelspec": {
   "display_name": "Python 3",
   "language": "python",
   "name": "python3"
  },
  "language_info": {
   "codemirror_mode": {
    "name": "ipython",
    "version": 3
   },
   "file_extension": ".py",
   "mimetype": "text/x-python",
   "name": "python",
   "nbconvert_exporter": "python",
   "pygments_lexer": "ipython3",
   "version": "3.13.7"
  }
 },
 "nbformat": 4,
 "nbformat_minor": 5
}
