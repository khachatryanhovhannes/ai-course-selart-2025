{
 "cells": [
  {
   "cell_type": "markdown",
   "id": "a3e45a32",
   "metadata": {},
   "source": [
    "# Module 2 - Session 1: Problem Solving"
   ]
  },
  {
   "cell_type": "markdown",
   "id": "b0f42248",
   "metadata": {},
   "source": [
    "### Exercise 1: Describe the Agent\n"
   ]
  },
  {
   "cell_type": "markdown",
   "id": "346738d9",
   "metadata": {},
   "source": [
    "##### Agent 1: Robotic Vacuum Cleaner\n",
    "**P – Performance**\n",
    "- Whether the robot covers the entire floor or leaves uncleaned areas\n",
    "- Whether the cleaning result is satisfactory or requires additional manual actions\n",
    "- Efficiency in terms of energy consumption and cleaning speed\n",
    "\n",
    "**E – Environment**\n",
    "- Indoor floor surface (rooms, corridors)\n",
    "- Dust and dirt on the surface\n",
    "- Obstacles such as walls, furniture, pets, or people\n",
    "\n",
    "**A – Actuators**\n",
    "- Wheels or motors for movement and direction control\n",
    "- Vacuum suction motor for collecting dust\n",
    "- Rotating brushes to clean the surface\n",
    "- Docking mechanism for automatic charging\n",
    "\n",
    "**S – Sensors**\n",
    "- Collision or proximity sensors for detecting obstacles\n",
    "- Dust detector to measure cleanliness\n",
    "- Visual or infrared sensors for mapping the area\n",
    "- Battery level sensor to monitor power usage"
   ]
  },
  {
   "cell_type": "markdown",
   "id": "53994d13",
   "metadata": {},
   "source": [
    "---"
   ]
  },
  {
   "cell_type": "markdown",
   "id": "c9b03f61",
   "metadata": {},
   "source": [
    "##### Agent 2: Online Shopping Chatbot\n",
    "\n",
    "**P – Performance**\n",
    "- Accuracy in understanding user queries and providing relevant product suggestions\n",
    "- Customer satisfaction and successful product recommendations\n",
    "- Response time and conversational fluency\n",
    "\n",
    "**E – Environment**\n",
    "- Online e-commerce platform and product database\n",
    "- User interface (chat window, mobile app, or website)\n",
    "- Internet connection and access to real-time product data\n",
    "\n",
    "**A – Actuators**\n",
    "- Text or voice message generation for user communication\n",
    "- Product suggestion output (links, images, descriptions)\n",
    "- Recommendation and filtering algorithms that display suitable options\n",
    "\n",
    "**S – Sensors**\n",
    "- User’s input messages or voice commands\n",
    "- Clickstream data and browsing behavior\n",
    "- User profile information (purchase history, preferences)\n",
    "- Feedback from previous interactions or ratings\n"
   ]
  },
  {
   "cell_type": "markdown",
   "id": "fda51e14",
   "metadata": {},
   "source": [
    "---"
   ]
  },
  {
   "cell_type": "markdown",
   "id": "6cc1cb42",
   "metadata": {},
   "source": [
    "##### Agent 3: Delivery Drone\n",
    "\n",
    "**P – Performance**\n",
    "- Successful and timely delivery of packages to the correct destination\n",
    "- Safety of the flight (no collisions or accidents)\n",
    "- Battery efficiency and flight time optimization\n",
    "- Accuracy in landing and package handling\n",
    "\n",
    "**E – Environment**\n",
    "- Outdoor airspace with buildings, trees, birds, and weather conditions\n",
    "- GPS map with delivery routes and coordinates\n",
    "- Interaction with humans or other drones during delivery\n",
    "\n",
    "**A – Actuators**\n",
    "- Propellers and motors for lift, movement, and direction control\n",
    "- Servo mechanisms for package pickup and release\n",
    "- Signal transmitters for communication with the control center\n",
    "- Landing gear for stable takeoff and landing\n",
    "\n",
    "**S – Sensors**\n",
    "- GPS and altimeter for navigation and altitude detection\n",
    "- Cameras or LIDAR for obstacle detection and visual positioning\n",
    "- Gyroscope and accelerometer for stability control\n",
    "- Battery and temperature sensors for system monitoring\n"
   ]
  },
  {
   "cell_type": "markdown",
   "id": "9a4009ce",
   "metadata": {},
   "source": [
    "---"
   ]
  },
  {
   "cell_type": "markdown",
   "id": "3ceaac24",
   "metadata": {},
   "source": [
    "### Exercise 2: Classify the Environment"
   ]
  },
  {
   "cell_type": "markdown",
   "id": "3e35d184",
   "metadata": {},
   "source": [
    "##### Environment: Poker\n",
    "**Observable:** Partially observable  \n",
    "**Deterministic:** Stochastic  \n",
    "**Episodic or Sequential:** Sequential  \n",
    "**Static or Dynamic:** Dynamic  \n",
    "**Single or Multi-Agent:** Multi-agent"
   ]
  },
  {
   "cell_type": "markdown",
   "id": "4062d8d3",
   "metadata": {},
   "source": [
    "---"
   ]
  },
  {
   "cell_type": "markdown",
   "id": "4a2b36ac",
   "metadata": {},
   "source": [
    "##### Environment: Sudoku\n",
    "\n",
    "**Observable:** Fully observable  \n",
    "**Deterministic:** Deterministic  \n",
    "**Episodic or Sequential:** Sequential  \n",
    "**Static or Dynamic:** Static  \n",
    "**Single or Multi-Agent:** Single-agent\n"
   ]
  },
  {
   "cell_type": "markdown",
   "id": "2beed380",
   "metadata": {},
   "source": [
    "---"
   ]
  },
  {
   "cell_type": "markdown",
   "id": "115dc8da",
   "metadata": {},
   "source": [
    "##### Environment: Mars Rover\n",
    "\n",
    "**Observable:** Partially observable  \n",
    "**Deterministic:** Stochastic  \n",
    "**Episodic or Sequential:** Sequential  \n",
    "**Static or Dynamic:** Dynamic  \n",
    "**Single or Multi-Agent:** Single-agent\n"
   ]
  },
  {
   "cell_type": "markdown",
   "id": "5d5f7426",
   "metadata": {},
   "source": [
    "---"
   ]
  },
  {
   "cell_type": "markdown",
   "id": "d0136cdf",
   "metadata": {},
   "source": [
    "### Exercise 3: Formulate the Problem"
   ]
  },
  {
   "cell_type": "markdown",
   "id": "b03bb697",
   "metadata": {},
   "source": [
    "##### Water Jug Problem\n",
    "\n",
    "**Initial State:**  \n",
    "There are two empty jugs — one 5-liter jug and one 3-liter jug. Water can be taken from a pump.\n",
    "\n",
    "**Actions:**  \n",
    "- Fill any of the jugs with water.  \n",
    "- Empty any of the jugs.  \n",
    "- Pour water from one jug into the other until one becomes full or the other becomes empty.\n",
    "\n",
    "**Transition Model:**  \n",
    "Each action changes how much water is in each jug.  \n",
    "For example, if you pour from the 5-liter jug into the 3-liter one, some water moves until one jug is full or empty.\n",
    "\n",
    "**Goal Test:**  \n",
    "The goal is to have exactly 2 liters of water in the 3-liter jug.\n",
    "\n",
    "**Path Cost:**  \n",
    "Each action counts as one step. The fewer actions, the better the solution.\n"
   ]
  }
 ],
 "metadata": {
  "language_info": {
   "name": "python"
  }
 },
 "nbformat": 4,
 "nbformat_minor": 5
}
